{
 "cells": [
  {
   "cell_type": "markdown",
   "metadata": {},
   "source": [
    "# REGRESSION DATASET GENERATOR AND PREPROCESSING. "
   ]
  },
  {
   "cell_type": "markdown",
   "metadata": {},
   "source": [
    "## INITIALIZE "
   ]
  },
  {
   "cell_type": "code",
   "execution_count": 1,
   "metadata": {
    "collapsed": true
   },
   "outputs": [],
   "source": [
    "from __future__ import division\n",
    "import pandas as pd\n",
    "import matplotlib.pyplot as plt\n",
    "%matplotlib inline\n",
    "from pandas.tools.plotting import scatter_matrix\n",
    "from math import sqrt\n",
    "import seaborn as sns\n",
    "sns.set()\n",
    "import matplotlib.pyplot as plt\n",
    "import numpy as np\n",
    "np.set_printoptions(suppress=True,precision=3)\n",
    "plt.rcParams['figure.figsize']=(12,12)"
   ]
  },
  {
   "cell_type": "markdown",
   "metadata": {},
   "source": [
    "## LOAD DATA"
   ]
  },
  {
   "cell_type": "markdown",
   "metadata": {},
   "source": [
    "#### Being able to synthesize datasets is a handy tool for exploring algorithms. "
   ]
  },
  {
   "cell_type": "code",
   "execution_count": 113,
   "metadata": {
    "collapsed": false
   },
   "outputs": [],
   "source": [
    "#sklearn.datasets has a module specifically for regression sets!\n",
    "from sklearn.datasets import make_regression"
   ]
  },
  {
   "cell_type": "markdown",
   "metadata": {},
   "source": [
    "#### We will be predicting target y using features a,b, and c."
   ]
  },
  {
   "cell_type": "code",
   "execution_count": 116,
   "metadata": {
    "collapsed": false
   },
   "outputs": [
    {
     "data": {
      "text/html": [
       "<div>\n",
       "<table border=\"1\" class=\"dataframe\">\n",
       "  <thead>\n",
       "    <tr style=\"text-align: right;\">\n",
       "      <th></th>\n",
       "      <th>a</th>\n",
       "      <th>b</th>\n",
       "      <th>c</th>\n",
       "      <th>y</th>\n",
       "    </tr>\n",
       "  </thead>\n",
       "  <tbody>\n",
       "    <tr>\n",
       "      <th>0</th>\n",
       "      <td>1.616103</td>\n",
       "      <td>1.009947</td>\n",
       "      <td>-0.761812</td>\n",
       "      <td>43.975381</td>\n",
       "    </tr>\n",
       "    <tr>\n",
       "      <th>1</th>\n",
       "      <td>-0.459723</td>\n",
       "      <td>1.553707</td>\n",
       "      <td>0.243400</td>\n",
       "      <td>-11.843439</td>\n",
       "    </tr>\n",
       "    <tr>\n",
       "      <th>2</th>\n",
       "      <td>-1.010051</td>\n",
       "      <td>-0.279338</td>\n",
       "      <td>0.557897</td>\n",
       "      <td>-25.443998</td>\n",
       "    </tr>\n",
       "    <tr>\n",
       "      <th>3</th>\n",
       "      <td>1.015656</td>\n",
       "      <td>2.040517</td>\n",
       "      <td>-0.108253</td>\n",
       "      <td>36.881420</td>\n",
       "    </tr>\n",
       "    <tr>\n",
       "      <th>4</th>\n",
       "      <td>-1.172813</td>\n",
       "      <td>1.727137</td>\n",
       "      <td>0.343961</td>\n",
       "      <td>-37.125060</td>\n",
       "    </tr>\n",
       "    <tr>\n",
       "      <th>5</th>\n",
       "      <td>1.528399</td>\n",
       "      <td>-1.130287</td>\n",
       "      <td>2.925774</td>\n",
       "      <td>132.565610</td>\n",
       "    </tr>\n",
       "    <tr>\n",
       "      <th>6</th>\n",
       "      <td>0.450759</td>\n",
       "      <td>-0.123665</td>\n",
       "      <td>-0.318603</td>\n",
       "      <td>9.617702</td>\n",
       "    </tr>\n",
       "    <tr>\n",
       "      <th>7</th>\n",
       "      <td>-2.311714</td>\n",
       "      <td>2.207860</td>\n",
       "      <td>0.632015</td>\n",
       "      <td>-74.323444</td>\n",
       "    </tr>\n",
       "    <tr>\n",
       "      <th>8</th>\n",
       "      <td>1.162776</td>\n",
       "      <td>-0.393223</td>\n",
       "      <td>0.899068</td>\n",
       "      <td>67.748487</td>\n",
       "    </tr>\n",
       "    <tr>\n",
       "      <th>9</th>\n",
       "      <td>0.942246</td>\n",
       "      <td>-1.141797</td>\n",
       "      <td>-1.408255</td>\n",
       "      <td>1.584349</td>\n",
       "    </tr>\n",
       "  </tbody>\n",
       "</table>\n",
       "</div>"
      ],
      "text/plain": [
       "          a         b         c           y\n",
       "0  1.616103  1.009947 -0.761812   43.975381\n",
       "1 -0.459723  1.553707  0.243400  -11.843439\n",
       "2 -1.010051 -0.279338  0.557897  -25.443998\n",
       "3  1.015656  2.040517 -0.108253   36.881420\n",
       "4 -1.172813  1.727137  0.343961  -37.125060\n",
       "5  1.528399 -1.130287  2.925774  132.565610\n",
       "6  0.450759 -0.123665 -0.318603    9.617702\n",
       "7 -2.311714  2.207860  0.632015  -74.323444\n",
       "8  1.162776 -0.393223  0.899068   67.748487\n",
       "9  0.942246 -1.141797 -1.408255    1.584349"
      ]
     },
     "execution_count": 116,
     "metadata": {},
     "output_type": "execute_result"
    }
   ],
   "source": [
    "x,y = make_regression(n_samples = 100, n_features = 3,n_informative=2)\n",
    "data = pd.DataFrame(x,columns = ['a','b','c'])\n",
    "data['y']=y\n",
    "data[:10]"
   ]
  },
  {
   "cell_type": "code",
   "execution_count": 117,
   "metadata": {
    "collapsed": false
   },
   "outputs": [
    {
     "data": {
      "image/png": "[encoded data removed]",
      "text/plain": [
       "<matplotlib.figure.Figure at 0x10dbe22d0>"
      ]
     },
     "metadata": {},
     "output_type": "display_data"
    }
   ],
   "source": [
    "plt.figure()\n",
    "plt.scatter(data['a'],data['y'],color='r')\n",
    "plt.scatter(data['b'],data['y'],color='g')\n",
    "plt.scatter(data['c'],data['y'],color='b')\n",
    "plt.show()"
   ]
  },
  {
   "cell_type": "markdown",
   "metadata": {},
   "source": [
    "#### The data has a definite linearity to it, with green being the least predictive while blue and red are about evenly clustered around the line, though blue has wider wings.  \n",
    "\n",
    "\n",
    "<b>Data looks good, let's save it:"
   ]
  },
  {
   "cell_type": "code",
   "execution_count": 2,
   "metadata": {
    "collapsed": true
   },
   "outputs": [],
   "source": [
    "data.to_csv('datagen.csv')"
   ]
  },
  {
   "cell_type": "code",
   "execution_count": 4,
   "metadata": {
    "collapsed": false
   },
   "outputs": [
    {
     "data": {
      "text/html": [
       "<div>\n",
       "<table border=\"1\" class=\"dataframe\">\n",
       "  <thead>\n",
       "    <tr style=\"text-align: right;\">\n",
       "      <th></th>\n",
       "      <th>a</th>\n",
       "      <th>b</th>\n",
       "      <th>c</th>\n",
       "      <th>y</th>\n",
       "    </tr>\n",
       "  </thead>\n",
       "  <tbody>\n",
       "    <tr>\n",
       "      <th>0</th>\n",
       "      <td>1.616103</td>\n",
       "      <td>1.009947</td>\n",
       "      <td>-0.761812</td>\n",
       "      <td>43.975381</td>\n",
       "    </tr>\n",
       "    <tr>\n",
       "      <th>1</th>\n",
       "      <td>-0.459723</td>\n",
       "      <td>1.553707</td>\n",
       "      <td>0.243400</td>\n",
       "      <td>-11.843439</td>\n",
       "    </tr>\n",
       "    <tr>\n",
       "      <th>2</th>\n",
       "      <td>-1.010051</td>\n",
       "      <td>-0.279338</td>\n",
       "      <td>0.557897</td>\n",
       "      <td>-25.443998</td>\n",
       "    </tr>\n",
       "    <tr>\n",
       "      <th>3</th>\n",
       "      <td>1.015656</td>\n",
       "      <td>2.040517</td>\n",
       "      <td>-0.108253</td>\n",
       "      <td>36.881420</td>\n",
       "    </tr>\n",
       "    <tr>\n",
       "      <th>4</th>\n",
       "      <td>-1.172813</td>\n",
       "      <td>1.727137</td>\n",
       "      <td>0.343961</td>\n",
       "      <td>-37.125060</td>\n",
       "    </tr>\n",
       "    <tr>\n",
       "      <th>5</th>\n",
       "      <td>1.528399</td>\n",
       "      <td>-1.130287</td>\n",
       "      <td>2.925774</td>\n",
       "      <td>132.565610</td>\n",
       "    </tr>\n",
       "    <tr>\n",
       "      <th>6</th>\n",
       "      <td>0.450759</td>\n",
       "      <td>-0.123665</td>\n",
       "      <td>-0.318603</td>\n",
       "      <td>9.617702</td>\n",
       "    </tr>\n",
       "    <tr>\n",
       "      <th>7</th>\n",
       "      <td>-2.311714</td>\n",
       "      <td>2.207860</td>\n",
       "      <td>0.632015</td>\n",
       "      <td>-74.323444</td>\n",
       "    </tr>\n",
       "    <tr>\n",
       "      <th>8</th>\n",
       "      <td>1.162776</td>\n",
       "      <td>-0.393223</td>\n",
       "      <td>0.899068</td>\n",
       "      <td>67.748487</td>\n",
       "    </tr>\n",
       "    <tr>\n",
       "      <th>9</th>\n",
       "      <td>0.942246</td>\n",
       "      <td>-1.141797</td>\n",
       "      <td>-1.408255</td>\n",
       "      <td>1.584349</td>\n",
       "    </tr>\n",
       "  </tbody>\n",
       "</table>\n",
       "</div>"
      ],
      "text/plain": [
       "          a         b         c           y\n",
       "0  1.616103  1.009947 -0.761812   43.975381\n",
       "1 -0.459723  1.553707  0.243400  -11.843439\n",
       "2 -1.010051 -0.279338  0.557897  -25.443998\n",
       "3  1.015656  2.040517 -0.108253   36.881420\n",
       "4 -1.172813  1.727137  0.343961  -37.125060\n",
       "5  1.528399 -1.130287  2.925774  132.565610\n",
       "6  0.450759 -0.123665 -0.318603    9.617702\n",
       "7 -2.311714  2.207860  0.632015  -74.323444\n",
       "8  1.162776 -0.393223  0.899068   67.748487\n",
       "9  0.942246 -1.141797 -1.408255    1.584349"
      ]
     },
     "execution_count": 4,
     "metadata": {},
     "output_type": "execute_result"
    }
   ],
   "source": [
    "data = pd.read_csv('datagen.csv',index_col = 0)\n",
    "data[:10]"
   ]
  },
  {
   "cell_type": "markdown",
   "metadata": {},
   "source": [
    "## SCALING THE DARA:\n",
    "#### Regularization methods like penalized linear regression work better when the data is standardized (has a mean of 0 and a unit variance of 1). "
   ]
  },
  {
   "cell_type": "code",
   "execution_count": 15,
   "metadata": {
    "collapsed": false
   },
   "outputs": [
    {
     "data": {
      "image/png": "[encoded data removed]",
      "text/plain": [
       "<matplotlib.figure.Figure at 0x10b2acad0>"
      ]
     },
     "metadata": {},
     "output_type": "display_data"
    }
   ],
   "source": [
    "from sklearn.preprocessing import scale\n",
    "scale_data = scale(data)\n",
    "scale_data = pd.DataFrame(scale_data,columns=['a','b','c','y'])\n",
    "\n",
    "data.to_csv('datagen.csv')\n",
    "\n",
    "plt.figure()\n",
    "plt.scatter(scale_data['a'],scale_data['y'],color='r')\n",
    "plt.scatter(scale_data['b'],scale_data['y'],color='g')\n",
    "plt.scatter(scale_data['c'],scale_data['y'],color='b')\n",
    "plt.show()"
   ]
  },
  {
   "cell_type": "markdown",
   "metadata": {},
   "source": [
    "---"
   ]
  },
  {
   "cell_type": "markdown",
   "metadata": {},
   "source": [
    "## SPLIT THE DATA INTO TEST AND VALIDATION SETS:"
   ]
  },
  {
   "cell_type": "code",
   "execution_count": 6,
   "metadata": {
    "collapsed": true
   },
   "outputs": [],
   "source": [
    "from sklearn import cross_validation"
   ]
  },
  {
   "cell_type": "code",
   "execution_count": 17,
   "metadata": {
    "collapsed": false
   },
   "outputs": [],
   "source": [
    "x_train, x_test, y_train, y_test = cross_validation.train_test_split(scale_data.values[:,:3],\n",
    "                                   scale_data.values[:,3],test_size=.3, random_state=7)\n",
    "\n",
    "np.save('datagen_xtrain',x_train)\n",
    "np.save('datagen_ytrain',y_train)\n",
    "np.save('datagen_xtest',x_test)\n",
    "np.save('datagen_ytest',y_test)"
   ]
  },
  {
   "cell_type": "markdown",
   "metadata": {},
   "source": [
    "## This data will be used to test the LARS algorithm to be implemented in A1…"
   ]
  },
  {
   "cell_type": "markdown",
   "metadata": {},
   "source": [
    "---"
   ]
  }
 ],
 "metadata": {
  "kernelspec": {
   "display_name": "Python 2",
   "language": "python",
   "name": "python2"
  },
  "language_info": {
   "codemirror_mode": {
    "name": "ipython",
    "version": 2
   },
   "file_extension": ".py",
   "mimetype": "text/x-python",
   "name": "python",
   "nbconvert_exporter": "python",
   "pygments_lexer": "ipython2",
   "version": "2.7.11"
  }
 },
 "nbformat": 4,
 "nbformat_minor": 0
}
