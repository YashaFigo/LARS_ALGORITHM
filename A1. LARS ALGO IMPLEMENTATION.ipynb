{
 "cells": [
  {
   "cell_type": "markdown",
   "metadata": {},
   "source": [
    "### INITIALIZE:"
   ]
  },
  {
   "cell_type": "code",
   "execution_count": 575,
   "metadata": {
    "collapsed": false
   },
   "outputs": [],
   "source": [
    "from __future__ import division\n",
    "import math\n",
    "import pandas as pd\n",
    "from sympy import Symbol\n",
    "import numpy as np\n",
    "import matplotlib.pyplot as plt\n",
    "np.set_printoptions(suppress=True,precision=3)\n",
    "import copy\n",
    "import seaborn as sns\n",
    "sns.set()\n",
    "plt.rcParams['figure.figsize']=(10,10)\n",
    "\n",
    "%matplotlib inline"
   ]
  },
  {
   "cell_type": "markdown",
   "metadata": {},
   "source": [
    "---"
   ]
  },
  {
   "cell_type": "markdown",
   "metadata": {},
   "source": [
    "### EXAMPLE DATA: "
   ]
  },
  {
   "cell_type": "code",
   "execution_count": 89,
   "metadata": {
    "collapsed": false
   },
   "outputs": [
    {
     "data": {
      "text/html": [
       "<div>\n",
       "<table border=\"1\" class=\"dataframe\">\n",
       "  <thead>\n",
       "    <tr style=\"text-align: right;\">\n",
       "      <th></th>\n",
       "      <th>x1</th>\n",
       "      <th>x2</th>\n",
       "      <th>x3</th>\n",
       "      <th>y</th>\n",
       "    </tr>\n",
       "  </thead>\n",
       "  <tbody>\n",
       "    <tr>\n",
       "      <th>1</th>\n",
       "      <td>x1_1</td>\n",
       "      <td>x2_1</td>\n",
       "      <td>x3_1</td>\n",
       "      <td>y1</td>\n",
       "    </tr>\n",
       "    <tr>\n",
       "      <th>2</th>\n",
       "      <td>x1_2</td>\n",
       "      <td>x2_2</td>\n",
       "      <td>x3_2</td>\n",
       "      <td>y2</td>\n",
       "    </tr>\n",
       "    <tr>\n",
       "      <th>3</th>\n",
       "      <td>x1_3</td>\n",
       "      <td>x2_3</td>\n",
       "      <td>x3_3</td>\n",
       "      <td>y3</td>\n",
       "    </tr>\n",
       "  </tbody>\n",
       "</table>\n",
       "</div>"
      ],
      "text/plain": [
       "     x1    x2    x3   y\n",
       "1  x1_1  x2_1  x3_1  y1\n",
       "2  x1_2  x2_2  x3_2  y2\n",
       "3  x1_3  x2_3  x3_3  y3"
      ]
     },
     "execution_count": 89,
     "metadata": {},
     "output_type": "execute_result"
    }
   ],
   "source": [
    "data = pd.DataFrame(index = [1,2,3])\n",
    "data['x1']=['x1_1','x1_2','x1_3']\n",
    "data['x2']=['x2_1','x2_2','x2_3']\n",
    "data['x3']=['x3_1','x3_2','x3_3']\n",
    "data[Symbol('y')]=[Symbol('y1'),Symbol('y2'),Symbol('y3')]\n",
    "data"
   ]
  },
  {
   "cell_type": "markdown",
   "metadata": {},
   "source": [
    "<b>\n",
    "* The data has three x-features.\n",
    "* The combined value of each feature multiplied by its Beta coefficient explains the outcome-feature y.      \n",
    "* From the given values, we derive Beta coefficients for each input-variable that will have the lowest error in explaining the most y_values when given the x_values. \n",
    "* For each row, (Beta_1 \\* Variable_1) + (Beta_2 \\* Variable_2) + (Beta_3 \\* Variable_3) must be as close to the y-variable as possible. \n",
    "* This set of Betas explains the most of the results and can be used to make predictions on future data."
   ]
  },
  {
   "cell_type": "markdown",
   "metadata": {},
   "source": [
    "---"
   ]
  },
  {
   "cell_type": "markdown",
   "metadata": {},
   "source": [
    "### LARS SUMMARY:\n",
    "<b>The LARS (Least Angle Regression) algorithm is a penalized regression method that tackles the above problem. It uses the principles of linear regression, but diminishes (penalizes) the coefficients of the x-features whose values are least correlated to the target y-feature. Because the weight of these outliers is penalized, the linear equation becomes less sensitive to extreme values, and is less likely to be skewed by them. The least important features end up as zeroes. This increases the sparsity of the data and is a method of feature selection. "
   ]
  },
  {
   "cell_type": "markdown",
   "metadata": {},
   "source": [
    "---"
   ]
  },
  {
   "cell_type": "markdown",
   "metadata": {},
   "source": [
    "### IMPLEMENTATION GENERAL FLOW:\n",
    "\n",
    "<b>\n",
    "1_Prepare the Assets   \n",
    "* Input Data\n",
    "* Preprocess data (if needed)\n",
    "* Split the data (if needed)\n",
    "* Load the data\n",
    "    + Input_data: the x-variable data\n",
    "    + Output target data: the y-variable\n",
    "  \n",
    "</b>\n",
    "\n",
    "<b>\n",
    "2_Provide the following objects:\n",
    "* Step_numb: how many steps to take\n",
    "* Increment: By how much to move the best beta at each step)\n",
    "* Length and Number of columns in the training variables set\n",
    "* Initialize a matrix to store every iteration of Beta coefficient values \n",
    "* Initialize a list of Beta coefficients. Start them all at 0.\n",
    "</b>\n",
    "\n",
    "<b>\n",
    "3_Iterate through each step (step-wise pattern is used: a bunch of steps happen, and something happens in each step.) \n",
    "* Start the step.\n",
    "\n",
    "\n",
    "</b>\t\n",
    "    \n",
    "<b>\n",
    "4_Select the current-best column in the x-data\n",
    "* Find the residual(error) of each row.\n",
    "* Calculate each column’s correlation to the residuals.\n",
    "* Calculate which column reduces the error the most (lowest correlation to residuals).\n",
    "</b>\n",
    "\n",
    "<b>\n",
    "5_Increment the current-best column’s Beta value\n",
    "</b>\n",
    "\n",
    "<b>\n",
    "6_Add the resulting Beta coefficients to the storage list at the top of the step\n",
    "</b>\n",
    "\n",
    "<b>\n",
    "7_Add the entire storage list to the storage matrix at the top of the function \n",
    "</b>\n",
    "\n",
    "<b>\n",
    "8_End Step and loop to next step\n",
    "</b>\n",
    "\n",
    "<b>\n",
    "9_Evaluate the best list of Beta coefficients from the storage matrix to reduce the most error. \n",
    "</b>\n",
    "\n",
    "<b>\n",
    "10_PRODUCE RESULTS using the most accurate set of coefficients to:\n",
    "* Visualize results\n",
    "* Return the optimal coefficient values\n",
    "* Make a prediction on new data.\n",
    "</b>"
   ]
  },
  {
   "cell_type": "markdown",
   "metadata": {},
   "source": [
    "---"
   ]
  },
  {
   "cell_type": "markdown",
   "metadata": {},
   "source": [
    "## 1_Prepare the Assets:"
   ]
  },
  {
   "cell_type": "markdown",
   "metadata": {},
   "source": [
    ">###  LOAD AND SHOW DATA . \n",
    "#### DATA HAS ALREADY BEEN SCALED AND SPLIT IN A0"
   ]
  },
  {
   "cell_type": "code",
   "execution_count": 2,
   "metadata": {
    "collapsed": false
   },
   "outputs": [
    {
     "name": "stdout",
     "output_type": "stream",
     "text": [
      "(['a', 'b', 'c'], 'y')\n",
      "(array([ 0.249,  0.451, -0.269]), 0.073319416026783019)\n",
      "(array([-0.478,  0.153,  0.077]), -0.3507951699949578)\n",
      "(array([ 0.202,  0.384,  1.363]), 0.81398569301284773)\n",
      "(array([ 0.625,  2.266,  0.349]), 0.67341727377121274)\n",
      "(array([ 2.206, -1.388,  0.275]), 1.9206493606385207)\n",
      "(array([ 1.383,  0.339, -0.923]), 0.6816054401320083)\n",
      "(array([-0.326,  1.388, -1.083]), -0.78151494089516493)\n",
      "(array([-1.081, -1.638, -0.063]), -0.90689975439840309)\n",
      "(array([-1.292, -0.71 , -0.792]), -1.4259175010277014)\n",
      "(array([ 0.295,  0.385, -0.155]), 0.16586475648167842)\n"
     ]
    }
   ],
   "source": [
    "train_x = np.load('datagen_xtrain.npy')\n",
    "train_y = np.load('datagen_ytrain.npy')\n",
    "test_x = np.load('datagen_xtest.npy')\n",
    "test_y = np.load('datagen_ytest.npy')\n",
    "\n",
    "print(['a','b','c'],'y')\n",
    "for x in zip(train_x[:10],train_y[:10]):\n",
    "    print(x)"
   ]
  },
  {
   "cell_type": "code",
   "execution_count": 547,
   "metadata": {
    "collapsed": false
   },
   "outputs": [
    {
     "data": {
      "image/png": "[encoded data removed]",
      "text/plain": [
       "<matplotlib.figure.Figure at 0x10fb8a550>"
      ]
     },
     "metadata": {},
     "output_type": "display_data"
    }
   ],
   "source": [
    "#X COLUMNS VS Y\n",
    "plt.scatter(test_x[:,0],test_y,color='r')\n",
    "plt.scatter(test_x[:,1],test_y,color='g')\n",
    "plt.scatter(test_x[:,2],test_y,color='b')\n",
    "plt.show()"
   ]
  },
  {
   "cell_type": "markdown",
   "metadata": {},
   "source": [
    "---"
   ]
  },
  {
   "cell_type": "markdown",
   "metadata": {},
   "source": [
    "## 2_PROVIDE INITIAL OBJECTS:"
   ]
  },
  {
   "cell_type": "code",
   "execution_count": 107,
   "metadata": {
    "collapsed": false
   },
   "outputs": [
    {
     "name": "stdout",
     "output_type": "stream",
     "text": [
      "('steps', 1)\n",
      "('incement', 0.004)\n",
      "('length', 70)\n",
      "('cols', 3)\n",
      "('beta_list', [0, 0, 0])\n",
      "('beta_matrix', [[0, 0, 0]])\n"
     ]
    }
   ],
   "source": [
    "step_num = 1\n",
    "increment = .004\n",
    "length = train_x.shape[0]\n",
    "cols = train_x.shape[1]\n",
    "beta_matrix = []\n",
    "beta_list = [0]*cols\n",
    "beta_matrix.append(beta_list)\n",
    "\n",
    "print('steps',step_num)\n",
    "print('incement',increment)\n",
    "print('length',length)\n",
    "print('cols',cols)\n",
    "print('beta_list',beta_list)\n",
    "print('beta_matrix',beta_matrix)"
   ]
  },
  {
   "cell_type": "markdown",
   "metadata": {},
   "source": [
    "## 3:8_ALGORITHM DETAILS\n",
    "\n",
    "#### THE BETA MATRIX:   \n",
    "<b>\n",
    "* The LARS algorithm outputs a beta matrix.    \n",
    "* The beta matrix is a list holding other lists.     \n",
    "* The other lists are filled with the beta combinations evaluated at each step.    \n",
    "* The first entry in the beta matrix has all betas set to zero.\n",
    "</b>\n",
    "\n",
    "<b>\n",
    "EXECUTION STRATEGY:    \n",
    "The function is split up into two sections:   \n",
    "* CORE FUNCTIONS: Separate functions for calculating residuals, correlations, and increments.   \n",
    "* CONTROL STRUCTURE: Glues the core functions together into a loop that is run a set number of times.    \n",
    "</b>\n",
    "\n",
    "<b>\n",
    "CORE FUNCTIONS \n",
    "For calculating residuals, correlations, and increments.\n",
    "</b>\n",
    "\n",
    "<b>\n",
    "* RESIDUALS: Find the error term (called a residual) per row. \n",
    "    + It is calculated as the difference between the actual y_value for the row AND the sum of each term in the row multiplied by its beta value.     \n",
    "</b>\n",
    "\n",
    "<b>\n",
    "* CORRELATIONS: Find the correlations per column given the rows and their residuals\n",
    "    + In each column:\n",
    "    + Multiply each row value by the row’s residual,\n",
    "    + Sum the total and divide by the total number of rows in the column. \n",
    "    + This will create a single correlation value per column  \n",
    "</b>\n",
    "\n",
    "<b>\n",
    "* INCREMENT: Find the most correlated beta, increment it, and add the results to the beta matrix. \n",
    "    + Find the column with the largest correlation.\n",
    "    + Add or subtract the step-sized step from it. (Add if correlation is positive, subtract if negative)\n",
    "    + Take the latest entry in the beta matrix, and replace the un-incremented term with the incremented term to create an updated list of betas. Add this updated list as the next entry in the beta matrix. \n",
    "\n",
    "</b>\n",
    "\n",
    "<b>\n",
    "CONTROL STRUCTURE:\n",
    "The functions are chained together into a loop that adds an entry into the beta matrix each time it runs.\n",
    "* In this loop, Inputs are fed into residuals, which are fed into correlations, which are fed into the increment. \n",
    "* The loop runs a set number of times. \n",
    "* The result after the loop completes is a beta matrix of coefficients. \n",
    "* The beta matrix can the be operated on…\n",
    "</b>\n",
    "   "
   ]
  },
  {
   "cell_type": "code",
   "execution_count": 419,
   "metadata": {
    "collapsed": false
   },
   "outputs": [
    {
     "data": {
      "text/plain": [
       "[[0.0040000000000000001, 0, 0],\n",
       " [0.0080000000000000002, 0, 0],\n",
       " [0.012, 0, 0],\n",
       " [0.016, 0, 0],\n",
       " [0.02, 0, 0],\n",
       " [0.024, 0, 0],\n",
       " [0.028000000000000001, 0, 0],\n",
       " [0.032000000000000001, 0, 0],\n",
       " [0.036000000000000004, 0, 0],\n",
       " [0.040000000000000008, 0, 0]]"
      ]
     },
     "execution_count": 419,
     "metadata": {},
     "output_type": "execute_result"
    }
   ],
   "source": [
    "def beta_matrix(x_data,y_data,step_num,increment):\n",
    "\n",
    "#CORE FUNCTIONS====------------------------------------------------------\n",
    "    \n",
    "    #RESIDUALS-----------------------------------------------------------\n",
    "    def residuals(x_data,y_data,beta_list):  \n",
    "        rows = x_data.shape[0]\n",
    "        cols = x_data.shape[1]\n",
    "        residuals = []\n",
    "        for r in range(rows):\n",
    "            terms = []\n",
    "            for c in range(cols):\n",
    "                term = x_data[r,c] * beta_list[c]\n",
    "                terms.append(term)\n",
    "            residual = y_data[r] - sum(terms)\n",
    "            residuals.append(residual)\n",
    "        return residuals \n",
    "    \n",
    "    #CORRELATIONS--------------------------------------------------------\n",
    "    def correlations(x_data,y_data,res):\n",
    "\n",
    "        rows = x_data.shape[0]\n",
    "        cols = x_data.shape[1]\n",
    "\n",
    "        corr = []\n",
    "\n",
    "        for c in range(cols):\n",
    "            x_res = []\n",
    "            for r in range(rows):\n",
    "                x_res.append(train_x[r][c] * res[r])\n",
    "            corr.append(sum(x_res)/rows)\n",
    "        return corr\n",
    "\n",
    "    #INCREMENT----------------------------------------------------------\n",
    "    def increment_beta(cor,increment):\n",
    "  \n",
    "        #LARGEST CORRELATION\n",
    "        best_cor_ix = 0\n",
    "        best_cor = cor[0]\n",
    "        \n",
    "        for r in range(1, (cols)):\n",
    "            if abs(best_cor) < abs(cor[r]):\n",
    "                best_cor_ix = r; best_cor = cor[r]\n",
    "        \n",
    "        beta_list[best_cor_ix] += increment * (best_cor / abs(best_cor))\n",
    "        beta_matrix.append(list(beta_list))\n",
    "\n",
    "#CONTROL STRUCTURE-------------------------------------------------\n",
    "\n",
    "    #DATA SHAPE\n",
    "    length = train_x.shape[0]\n",
    "    cols = train_x.shape[1]\n",
    "    \n",
    "    #ASSETS\n",
    "    beta_matrix = []\n",
    "    beta_list = [0]*cols\n",
    "    beta_matrix.append(beta_list) \n",
    "    \n",
    "    #CONTROL FLOW\n",
    "    for r in range(step_num):\n",
    "        res = residuals(train_x,train_y,beta_list)\n",
    "        cor = correlations(train_x,train_y,residuals(train_x,train_y,beta_list))\n",
    "        increment_beta(cor,increment)\n",
    "    return beta_matrix[1:]\n",
    "\n",
    "#OUTPUT\n",
    "beta_matrix(train_x,train_y,350,.004)[:10]"
   ]
  },
  {
   "cell_type": "markdown",
   "metadata": {},
   "source": [
    "---"
   ]
  },
  {
   "cell_type": "markdown",
   "metadata": {},
   "source": [
    "## 9:10_EVALUATE, PRODUCE, PREDICT"
   ]
  },
  {
   "cell_type": "markdown",
   "metadata": {},
   "source": [
    "> ### Lets visualize this output:"
   ]
  },
  {
   "cell_type": "code",
   "execution_count": 546,
   "metadata": {
    "collapsed": false
   },
   "outputs": [
    {
     "data": {
      "image/png": "[encoded data removed]",
      "text/plain": [
       "<matplotlib.figure.Figure at 0x10e0e2f50>"
      ]
     },
     "metadata": {},
     "output_type": "display_data"
    }
   ],
   "source": [
    "lars_train_1 = beta_matrix(train_x,train_y,350,.004)\n",
    "\n",
    "def see_coef_matrix(matrix):\n",
    "    cols = len(matrix[0])\n",
    "    rows = len(matrix)\n",
    "    \n",
    "    for x in range(cols):\n",
    "        value_list = [matrix[y][x] for y in range(rows)]\n",
    "        value_space = [x for x in range(len(value_list))]\n",
    "        plt.plot(value_space,value_list)\n",
    "\n",
    "plt.ylim(-.05,1)\n",
    "see_coef_matrix(lars_train_1)"
   ]
  },
  {
   "cell_type": "markdown",
   "metadata": {},
   "source": [
    ">> ### At a later step in the algorithm, the betas seem to level off. Note that e green betas remain at zero due to their low level of correlation. This effectively takes the green feature and eliminates it from the prediction model. \n"
   ]
  },
  {
   "cell_type": "markdown",
   "metadata": {},
   "source": [
    "---"
   ]
  },
  {
   "cell_type": "markdown",
   "metadata": {},
   "source": [
    "> ### LETS DETERMINE THE ERROR OF EACH BETA LIST IN THE MATRIX"
   ]
  },
  {
   "cell_type": "code",
   "execution_count": 583,
   "metadata": {
    "collapsed": false
   },
   "outputs": [
    {
     "data": {
      "text/plain": [
       "[[[0.0040000000000000001, 0, 0], 1.0084161157948592],\n",
       " [[0.0080000000000000002, 0, 0], 1.001145379400104],\n",
       " [[0.012, 0, 0], 0.99390740444296399],\n",
       " [[0.016, 0, 0], 0.98670219092343814],\n",
       " [[0.02, 0, 0], 0.97952973884152805],\n",
       " [[0.024, 0, 0], 0.97239004819723263],\n",
       " [[0.028000000000000001, 0, 0], 0.96528311899055186],\n",
       " [[0.032000000000000001, 0, 0], 0.95820895122148642],\n",
       " [[0.036000000000000004, 0, 0], 0.95116754489003585],\n",
       " [[0.040000000000000008, 0, 0], 0.94415889999619951]]"
      ]
     },
     "execution_count": 583,
     "metadata": {},
     "output_type": "execute_result"
    }
   ],
   "source": [
    "#for each row of coefficients: \n",
    "#calculate mean squred error of its predictions against the actual outcomes\n",
    "\n",
    "def mse_path(model,train_x,train_y,):\n",
    "    \n",
    "    mse_path = []\n",
    "        \n",
    "    length = train_x.shape[0]\n",
    "    cols = train_x.shape[1]\n",
    "\n",
    "    \n",
    "    for coefs in model:\n",
    "    \n",
    "        predictions = []\n",
    "\n",
    "        for y in range(length):\n",
    "            coef_vals = []\n",
    "            for z in range(cols):\n",
    "                coef_val = coefs[z] * train_x[y][z]\n",
    "                coef_vals.append(coef_val)\n",
    "            predictions.append(sum(coef_vals))\n",
    "        \n",
    "        squared_errors = [(predictions[x]-train_y[x])**2 for x in range(length)]\n",
    "        mse_path.append([coefs,sum(squared_errors)/length])\n",
    "        \n",
    "    return (mse_path)\n",
    "\n",
    "mse_path(model,train_x,train_y,)[:10]\n",
    "                       #[coefs],[mse]"
   ]
  },
  {
   "cell_type": "markdown",
   "metadata": {},
   "source": [
    "> ### LETS SEE HOW THE ERRORS EVOLVE WITH EACH INCREMENT:"
   ]
  },
  {
   "cell_type": "code",
   "execution_count": 544,
   "metadata": {
    "collapsed": false
   },
   "outputs": [
    {
     "data": {
      "image/png": "[encoded data removed]",
      "text/plain": [
       "<matplotlib.figure.Figure at 0x10f245c50>"
      ]
     },
     "metadata": {},
     "output_type": "display_data"
    }
   ],
   "source": [
    "model = beta_matrix(train_x,train_y,350,.004)\n",
    "mse = mse_path(model,train_x,train_y,)\n",
    "\n",
    "err = [x[1] for x in mse]\n",
    "plt.plot(range(len(err)),err,color='c')\n",
    "plt.show()"
   ]
  },
  {
   "cell_type": "markdown",
   "metadata": {},
   "source": [
    "> ### LETS SEARCH FOR THE COEFS WITH THE LOWEST ERROR:"
   ]
  },
  {
   "cell_type": "code",
   "execution_count": 529,
   "metadata": {
    "collapsed": false
   },
   "outputs": [
    {
     "data": {
      "text/plain": [
       "[321, [0.81200000000000061, 0, 0.47600000000000037]]"
      ]
     },
     "execution_count": 529,
     "metadata": {},
     "output_type": "execute_result"
    }
   ],
   "source": [
    "mse = mse_path(model,train_x,train_y,)\n",
    "\n",
    "def best_fit(mse):\n",
    "    sorted_mse = sorted(mse, key = lambda x: x[1])\n",
    "    best_coefs = [x[0] for x in sorted_mse][0]\n",
    "    index = []\n",
    "    index=min([x for x,y in enumerate(mse) if y[0] == best_coefs])\n",
    "    return [index,best_coefs]\n",
    "    #returns best step where best coefs first appears, and the coefs themselves\n",
    "\n",
    "best_fit(mse)"
   ]
  },
  {
   "cell_type": "markdown",
   "metadata": {},
   "source": [
    ">> #### It is found at step 321 of the error path."
   ]
  },
  {
   "cell_type": "markdown",
   "metadata": {},
   "source": [
    "> ### COMPARE AGAINST LARS SKLEARN IMPLEMENTATION:"
   ]
  },
  {
   "cell_type": "code",
   "execution_count": 491,
   "metadata": {
    "collapsed": false
   },
   "outputs": [
    {
     "data": {
      "text/plain": [
       "<bound method Lars.get_params of Lars(copy_X=True, eps=2.2204460492503131e-16, fit_intercept=True,\n",
       "   fit_path=True, n_nonzero_coefs=3, normalize=False, positive=False,\n",
       "   precompute='auto', verbose=False)>"
      ]
     },
     "execution_count": 491,
     "metadata": {},
     "output_type": "execute_result"
    }
   ],
   "source": [
    "from sklearn.linear_model import Lars\n",
    "lars = Lars(n_nonzero_coefs=3,normalize=False)\n",
    "lars.fit(train_x,train_y)\n",
    "lars.get_params"
   ]
  },
  {
   "cell_type": "code",
   "execution_count": 492,
   "metadata": {
    "collapsed": false
   },
   "outputs": [
    {
     "data": {
      "text/plain": [
       "array([ 0.811,  0.   ,  0.477])"
      ]
     },
     "execution_count": 492,
     "metadata": {},
     "output_type": "execute_result"
    }
   ],
   "source": [
    "lars.coef_"
   ]
  },
  {
   "cell_type": "markdown",
   "metadata": {},
   "source": [
    ">>### An almost exact match to sklearn! "
   ]
  },
  {
   "cell_type": "markdown",
   "metadata": {},
   "source": [
    ">### Lets visualize how the error relates to the coefficients:"
   ]
  },
  {
   "cell_type": "code",
   "execution_count": 543,
   "metadata": {
    "collapsed": false
   },
   "outputs": [
    {
     "data": {
      "image/png": "[encoded data removed]",
      "text/plain": [
       "<matplotlib.figure.Figure at 0x10e24fc10>"
      ]
     },
     "metadata": {},
     "output_type": "display_data"
    }
   ],
   "source": [
    "model = beta_matrix(train_x,train_y,350,.004)\n",
    "\n",
    "mse = mse_path(model,train_x,train_y,)\n",
    "err = [x[1] for x in mse]\n",
    "plt.plot(range(len(err)),err)\n",
    "\n",
    "see_coef_matrix(model)\n",
    "\n",
    "plt.rcParams['figure.figsize']=(12,12)\n",
    "\n",
    "plt.axvline(best_fit(mse)[0],c='k',ls='dashed')\n",
    "plt.ylim(-.05,1)\n",
    "\n",
    "plt.show()"
   ]
  },
  {
   "cell_type": "markdown",
   "metadata": {},
   "source": [
    "><b>The error declines as the coefficients increase. Both the error and the coefficients stabilize at step 321 where we have the optimum coef values of [0.812, 0, 0.477]\n"
   ]
  },
  {
   "cell_type": "markdown",
   "metadata": {},
   "source": [
    "---"
   ]
  },
  {
   "cell_type": "markdown",
   "metadata": {},
   "source": [
    "> ### PREDICTION:"
   ]
  },
  {
   "cell_type": "markdown",
   "metadata": {},
   "source": [
    ">><b> Remember our data was already split and we withheld a test-set at the start..."
   ]
  },
  {
   "cell_type": "code",
   "execution_count": 615,
   "metadata": {
    "collapsed": false
   },
   "outputs": [
    {
     "data": {
      "text/plain": [
       "array([[-0.874804105 , -0.641476066 ,  1.2181214931],\n",
       "       [ 0.4871853163, -0.3550151822,  0.9032879444],\n",
       "       [-1.0986017921, -0.6052054407, -0.6538986249],\n",
       "       [-0.2128719459, -1.9745748654, -1.6978229797],\n",
       "       [ 0.3359766639, -1.8061009823,  0.234395534 ],\n",
       "       [ 0.2987677667, -0.7934662678, -0.1214294967],\n",
       "       [ 0.0833561237, -0.6794034708,  0.1761130029],\n",
       "       [ 0.4857315022,  0.9098342239,  1.0627202843],\n",
       "       [ 0.9779386047,  1.8638612682, -1.3467062144],\n",
       "       [-0.6699960566,  0.6090378756,  0.8538346212],\n",
       "       [ 1.4522260811, -0.4795411033,  0.3380078606],\n",
       "       [ 0.2192480916, -0.0507120784,  0.6778814793],\n",
       "       [ 0.0733462077,  0.7639117389,  0.9737006196],\n",
       "       [-0.0372876314, -0.1822075245,  0.4106436167],\n",
       "       [ 0.5955162489,  0.7990205945, -0.3448059594],\n",
       "       [-0.9385427184,  0.9889996655,  1.5079736376],\n",
       "       [-1.0146794302, -0.3903718585,  0.4598670445],\n",
       "       [ 0.03505488  ,  0.057347842 , -0.2459694883],\n",
       "       [-2.2807894637, -0.7209439295, -0.5882614829],\n",
       "       [-1.0292894499, -0.3521179738, -0.4510197966],\n",
       "       [-2.0811248282, -1.1519986314, -0.315484822 ],\n",
       "       [-0.9483878267, -0.2934374934,  0.4687472438],\n",
       "       [ 1.587209101 , -0.0005005477, -0.7737359662],\n",
       "       [ 0.9861885344,  0.7806394872,  1.0421829596],\n",
       "       [ 1.5700335317, -1.0820381619,  3.025130316 ],\n",
       "       [-0.7091486939, -0.4484746477,  1.96572764  ],\n",
       "       [ 0.0210997644,  0.3668477293, -1.1009145352],\n",
       "       [ 0.3414341697,  0.7574487441, -1.7840186925],\n",
       "       [-0.0252908573,  0.5157787151, -1.8232531587],\n",
       "       [-1.3152094333,  2.0076634195, -0.0155769369]])"
      ]
     },
     "execution_count": 615,
     "metadata": {},
     "output_type": "execute_result"
    }
   ],
   "source": [
    "test_x"
   ]
  },
  {
   "cell_type": "code",
   "execution_count": 617,
   "metadata": {
    "collapsed": false
   },
   "outputs": [
    {
     "name": "stdout",
     "output_type": "stream",
     "text": [
      "-0.128297349993\n",
      "0.826367483183\n",
      "-1.20335588757\n",
      "-0.983052036038\n",
      "0.384440636578\n",
      "0.184422086631\n",
      "0.151681051533\n",
      "0.90128378806\n",
      "0.150594183389\n",
      "-0.136015158293\n"
     ]
    }
   ],
   "source": [
    "for x in test_y[:10]:print(x)"
   ]
  },
  {
   "cell_type": "code",
   "execution_count": 567,
   "metadata": {
    "collapsed": false
   },
   "outputs": [
    {
     "data": {
      "text/plain": [
       "[0.81200000000000061, 0, 0.47600000000000037]"
      ]
     },
     "execution_count": 567,
     "metadata": {},
     "output_type": "execute_result"
    }
   ],
   "source": [
    "betas"
   ]
  },
  {
   "cell_type": "code",
   "execution_count": 596,
   "metadata": {
    "collapsed": false
   },
   "outputs": [
    {
     "data": {
      "text/plain": [
       "[-0.13051510256702148,\n",
       " 0.82555953837278317,\n",
       " -1.2033204006369891,\n",
       " -0.98101575838183785,\n",
       " 0.38438532528451502,\n",
       " 0.18479898615297274,\n",
       " 0.15151496180213059,\n",
       " 0.90026883509885525,\n",
       " 0.15305398893385469,\n",
       " -0.13761151830536611]"
      ]
     },
     "execution_count": 596,
     "metadata": {},
     "output_type": "execute_result"
    }
   ],
   "source": [
    "def predict(betas,test_x,test_y):\n",
    "    \n",
    "    length = test_x.shape[0]\n",
    "    cols = test_x.shape[1]\n",
    "    \n",
    "    predictions = []\n",
    "    \n",
    "    for x in range(length):\n",
    "        beta_vals = []\n",
    "        for y in range(cols):\n",
    "            beta = betas[y] * test_x[x][y]\n",
    "            beta_vals.append(beta)\n",
    "        predictions.append(sum(beta_vals))\n",
    "    \n",
    "    return predictions\n",
    "    \n",
    "betas = best_fit(mse)[1]  \n",
    "pred = predict(betas,test_x,test_y)\n",
    "pred[:10]"
   ]
  },
  {
   "cell_type": "markdown",
   "metadata": {},
   "source": [
    "> ### LETS CALCULATE THE ERROR OF OUR PREDICTIONS ON THE FINAL DATA:"
   ]
  },
  {
   "cell_type": "code",
   "execution_count": 612,
   "metadata": {
    "collapsed": false
   },
   "outputs": [
    {
     "name": "stdout",
     "output_type": "stream",
     "text": [
      "(['mse:', 2.422813493917039e-06], ['rmse:', 0.0015565389471250113])\n"
     ]
    }
   ],
   "source": [
    "from sklearn.metrics import mean_squared_error\n",
    "mserr = mean_squared_error(pred, test_y)\n",
    "print(['mse:',mserr],['rmse:',math.sqrt(mserr)])"
   ]
  },
  {
   "cell_type": "markdown",
   "metadata": {},
   "source": [
    ">> ### Very low error! Lets visualize how our predictions look VS actual targets:"
   ]
  },
  {
   "cell_type": "code",
   "execution_count": 618,
   "metadata": {
    "collapsed": false
   },
   "outputs": [
    {
     "data": {
      "image/png": "[encoded data removed]",
      "text/plain": [
       "<matplotlib.figure.Figure at 0x111b3f0d0>"
      ]
     },
     "metadata": {},
     "output_type": "display_data"
    }
   ],
   "source": [
    "plt.scatter(range(len(pred)),test_y,color='r',alpha=.5,s=100)\n",
    "plt.scatter(range(len(pred)),pred,color='g')\n",
    "plt.rcParams['figure.figsize']=(10,10)"
   ]
  },
  {
   "cell_type": "markdown",
   "metadata": {},
   "source": [
    "> ### Awww Yissssss! Our predictions are so accurate that the red (actual) and green (predicted) values overlap. At step 321 of the LARS algorithm execution, we discovered the function that produced the data! \n",
    "\n",
    "<i>(Real world data is usually much much messier)"
   ]
  },
  {
   "cell_type": "markdown",
   "metadata": {},
   "source": [
    "<img src='TAF.png' />"
   ]
  }
 ],
 "metadata": {
  "kernelspec": {
   "display_name": "Python 2",
   "language": "python",
   "name": "python2"
  },
  "language_info": {
   "codemirror_mode": {
    "name": "ipython",
    "version": 2
   },
   "file_extension": ".py",
   "mimetype": "text/x-python",
   "name": "python",
   "nbconvert_exporter": "python",
   "pygments_lexer": "ipython2",
   "version": "2.7.11"
  }
 },
 "nbformat": 4,
 "nbformat_minor": 0
}
